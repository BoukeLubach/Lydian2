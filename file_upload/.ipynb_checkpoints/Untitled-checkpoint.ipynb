{
 "cells": [
  {
   "cell_type": "code",
   "execution_count": 1,
   "metadata": {},
   "outputs": [],
   "source": [
    "import pandas as pd\n",
    "import os\n",
    "import time\n",
    "from datetime import datetime, timedelta \n",
    "\n",
    "datafolder = 'tests/testfiles'\n",
    "\n",
    "\n",
    "\n",
    "\n"
   ]
  },
  {
   "cell_type": "code",
   "execution_count": 9,
   "metadata": {},
   "outputs": [
    {
     "data": {
      "text/html": [
       "<div>\n",
       "<style scoped>\n",
       "    .dataframe tbody tr th:only-of-type {\n",
       "        vertical-align: middle;\n",
       "    }\n",
       "\n",
       "    .dataframe tbody tr th {\n",
       "        vertical-align: top;\n",
       "    }\n",
       "\n",
       "    .dataframe thead th {\n",
       "        text-align: right;\n",
       "    }\n",
       "</style>\n",
       "<table border=\"1\" class=\"dataframe\">\n",
       "  <thead>\n",
       "    <tr style=\"text-align: right;\">\n",
       "      <th></th>\n",
       "      <th>column1</th>\n",
       "      <th>column2</th>\n",
       "      <th>column3</th>\n",
       "      <th>column4</th>\n",
       "      <th>column5</th>\n",
       "      <th>column6</th>\n",
       "    </tr>\n",
       "  </thead>\n",
       "  <tbody>\n",
       "    <tr>\n",
       "      <th>0</th>\n",
       "      <td>1</td>\n",
       "      <td>5.73642</td>\n",
       "      <td>5.99174</td>\n",
       "      <td>13.889</td>\n",
       "      <td>None</td>\n",
       "      <td>None</td>\n",
       "    </tr>\n",
       "    <tr>\n",
       "      <th>1</th>\n",
       "      <td>1</td>\n",
       "      <td>5.73642</td>\n",
       "      <td>5.99174</td>\n",
       "      <td>13.889</td>\n",
       "      <td>None</td>\n",
       "      <td>None</td>\n",
       "    </tr>\n",
       "    <tr>\n",
       "      <th>2</th>\n",
       "      <td>1</td>\n",
       "      <td>5.73642</td>\n",
       "      <td>5.99174</td>\n",
       "      <td>13.889</td>\n",
       "      <td>None</td>\n",
       "      <td>None</td>\n",
       "    </tr>\n",
       "    <tr>\n",
       "      <th>3</th>\n",
       "      <td>1</td>\n",
       "      <td>5.73642</td>\n",
       "      <td>5.99174</td>\n",
       "      <td>13.889</td>\n",
       "      <td>None</td>\n",
       "      <td>None</td>\n",
       "    </tr>\n",
       "    <tr>\n",
       "      <th>4</th>\n",
       "      <td>1</td>\n",
       "      <td>6.46235</td>\n",
       "      <td>5.99174</td>\n",
       "      <td>13.889</td>\n",
       "      <td>None</td>\n",
       "      <td>None</td>\n",
       "    </tr>\n",
       "    <tr>\n",
       "      <th>...</th>\n",
       "      <td>...</td>\n",
       "      <td>...</td>\n",
       "      <td>...</td>\n",
       "      <td>...</td>\n",
       "      <td>...</td>\n",
       "      <td>...</td>\n",
       "    </tr>\n",
       "    <tr>\n",
       "      <th>8753</th>\n",
       "      <td>1</td>\n",
       "      <td>None</td>\n",
       "      <td>None</td>\n",
       "      <td>None</td>\n",
       "      <td>4.42923</td>\n",
       "      <td>-6</td>\n",
       "    </tr>\n",
       "    <tr>\n",
       "      <th>8754</th>\n",
       "      <td>1</td>\n",
       "      <td>None</td>\n",
       "      <td>None</td>\n",
       "      <td>None</td>\n",
       "      <td>4.24677</td>\n",
       "      <td>-6</td>\n",
       "    </tr>\n",
       "    <tr>\n",
       "      <th>8755</th>\n",
       "      <td>1</td>\n",
       "      <td>None</td>\n",
       "      <td>None</td>\n",
       "      <td>None</td>\n",
       "      <td>4.44499</td>\n",
       "      <td>-6</td>\n",
       "    </tr>\n",
       "    <tr>\n",
       "      <th>8756</th>\n",
       "      <td>1</td>\n",
       "      <td>None</td>\n",
       "      <td>None</td>\n",
       "      <td>None</td>\n",
       "      <td>4.47387</td>\n",
       "      <td>-6</td>\n",
       "    </tr>\n",
       "    <tr>\n",
       "      <th>8757</th>\n",
       "      <td>1</td>\n",
       "      <td>None</td>\n",
       "      <td>None</td>\n",
       "      <td>None</td>\n",
       "      <td>4.56029</td>\n",
       "      <td>-6</td>\n",
       "    </tr>\n",
       "  </tbody>\n",
       "</table>\n",
       "<p>8758 rows × 6 columns</p>\n",
       "</div>"
      ],
      "text/plain": [
       "     column1  column2  column3 column4  column5 column6\n",
       "0          1  5.73642  5.99174  13.889     None    None\n",
       "1          1  5.73642  5.99174  13.889     None    None\n",
       "2          1  5.73642  5.99174  13.889     None    None\n",
       "3          1  5.73642  5.99174  13.889     None    None\n",
       "4          1  6.46235  5.99174  13.889     None    None\n",
       "...      ...      ...      ...     ...      ...     ...\n",
       "8753       1     None     None    None  4.42923      -6\n",
       "8754       1     None     None    None  4.24677      -6\n",
       "8755       1     None     None    None  4.44499      -6\n",
       "8756       1     None     None    None  4.47387      -6\n",
       "8757       1     None     None    None  4.56029      -6\n",
       "\n",
       "[8758 rows x 6 columns]"
      ]
     },
     "execution_count": 9,
     "metadata": {},
     "output_type": "execute_result"
    }
   ],
   "source": [
    "file_path = os.path.join(datafolder, \"correctcsv_notaginfo.csv\")\n",
    "df = pd.read_csv(file_path, dayfirst=True, sep=\";\", skiprows=[1,2])\n",
    "df = df.where(pd.notnull(df), None)\n",
    "df = df.drop(df.columns[0], axis=1)\n",
    "df.to_csv('pd_notnull.csv', sep=\";\")"
   ]
  },
  {
   "cell_type": "code",
   "execution_count": 56,
   "metadata": {},
   "outputs": [],
   "source": [
    "def determine_dayfirst(df):\n",
    "    datetimecolumn = df.columns[0]\n",
    "    df['Datetime'] = pd.to_datetime(df[datetimecolumn], dayfirst=True)\n",
    "    \n",
    "    year = df['Datetime'].iloc[40].year\n",
    "    jan13index = df[df['Datetime'].dt.strftime('%Y-%m-%d') ==f'{year}-01-13'].index[0]\n",
    "    monthindex1 = df['Datetime'].iloc[jan13index].month\n",
    "    monthindex2 = df['Datetime'].iloc[jan13index-1].month\n",
    "\n",
    "    if monthindex1== monthindex2:\n",
    "        dayfirst_inferred_value = True\n",
    "    else:\n",
    "        dayfirst_inferred_value=False\n",
    "    return dayfirst_inferred_value\n"
   ]
  },
  {
   "cell_type": "code",
   "execution_count": 61,
   "metadata": {},
   "outputs": [
    {
     "name": "stdout",
     "output_type": "stream",
     "text": [
      "2.7151551246643066\n"
     ]
    }
   ],
   "source": [
    "\n",
    "file_path = os.path.join(datafolder, 'WES_data_deel1.csv')\n",
    "\n",
    "start = time.time()\n",
    "\n",
    "df = pd.read_csv(file_path, sep=\";\", engine='python')\n",
    "dayfirst_inferred_value = determine_dayfirst(df)\n",
    "datetimecolumn = df.columns[0]\n",
    "df['Datetime'] = pd.to_datetime(df[datetimecolumn], dayfirst=dayfirst)\n",
    "\n",
    "end = time.time()\n",
    "print(end-start)\n",
    "    \n",
    "    "
   ]
  },
  {
   "cell_type": "code",
   "execution_count": 79,
   "metadata": {},
   "outputs": [
    {
     "name": "stdout",
     "output_type": "stream",
     "text": [
      "Dayfirst set to: False\n",
      "2.5501458644866943\n"
     ]
    }
   ],
   "source": [
    "file_path = os.path.join(datafolder, 'Zeoliet deel2.csv')\n",
    "start = time.time()\n",
    "\n",
    "df = pd.read_csv(file_path, sep=\";\", engine='python')\n",
    "datetimecolumn = df.columns[0]\n",
    "df['Datetime'] = pd.to_datetime(df[datetimecolumn], dayfirst=True)\n",
    "\n",
    "year = df['Datetime'].iloc[40].year\n",
    "jan13index = df[df['Datetime'].dt.strftime('%Y-%m-%d') ==f'{year}-01-13'].index[0]\n",
    "monthindex1 = df['Datetime'].iloc[jan13index].month\n",
    "monthindex2 = df['Datetime'].iloc[jan13index-1].month\n",
    "\n",
    "if monthindex1== monthindex2:\n",
    "    dayfirst_inferred_value = True\n",
    "else:\n",
    "    dayfirst_inferred_value=False\n",
    "\n",
    "print(f'Dayfirst set to: {dayfirst_inferred_value}')\n",
    "\n",
    "df['Datetime'] = pd.to_datetime(df[datetimecolumn], dayfirst=dayfirst)\n",
    "\n",
    "end = time.time()\n",
    "print(end-start)"
   ]
  },
  {
   "cell_type": "code",
   "execution_count": 82,
   "metadata": {},
   "outputs": [
    {
     "data": {
      "text/plain": [
       "1"
      ]
     },
     "execution_count": 82,
     "metadata": {},
     "output_type": "execute_result"
    }
   ],
   "source": []
  }
 ],
 "metadata": {
  "kernelspec": {
   "display_name": "Python 3",
   "language": "python",
   "name": "python3"
  },
  "language_info": {
   "codemirror_mode": {
    "name": "ipython",
    "version": 3
   },
   "file_extension": ".py",
   "mimetype": "text/x-python",
   "name": "python",
   "nbconvert_exporter": "python",
   "pygments_lexer": "ipython3",
   "version": "3.7.2"
  }
 },
 "nbformat": 4,
 "nbformat_minor": 4
}
