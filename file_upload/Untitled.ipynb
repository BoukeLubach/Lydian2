{
 "cells": [
  {
   "cell_type": "code",
   "execution_count": 2,
   "metadata": {},
   "outputs": [],
   "source": [
    "import pandas as pd\n",
    "import os\n",
    "import time\n",
    "from datetime import datetime, timedelta \n",
    "\n",
    "datafolder = 'testfiles'\n",
    "\n",
    "\n",
    "\n",
    "\n"
   ]
  },
  {
   "cell_type": "code",
   "execution_count": 56,
   "metadata": {},
   "outputs": [],
   "source": [
    "def determine_dayfirst(df):\n",
    "    datetimecolumn = df.columns[0]\n",
    "    df['Datetime'] = pd.to_datetime(df[datetimecolumn], dayfirst=True)\n",
    "    \n",
    "    year = df['Datetime'].iloc[40].year\n",
    "    jan13index = df[df['Datetime'].dt.strftime('%Y-%m-%d') ==f'{year}-01-13'].index[0]\n",
    "    monthindex1 = df['Datetime'].iloc[jan13index].month\n",
    "    monthindex2 = df['Datetime'].iloc[jan13index-1].month\n",
    "\n",
    "    if monthindex1== monthindex2:\n",
    "        dayfirst_inferred_value = True\n",
    "    else:\n",
    "        dayfirst_inferred_value=False\n",
    "    return dayfirst_inferred_value\n"
   ]
  },
  {
   "cell_type": "code",
   "execution_count": 61,
   "metadata": {},
   "outputs": [
    {
     "name": "stdout",
     "output_type": "stream",
     "text": [
      "2.7151551246643066\n"
     ]
    }
   ],
   "source": [
    "\n",
    "file_path = os.path.join(datafolder, 'WES_data_deel1.csv')\n",
    "\n",
    "start = time.time()\n",
    "\n",
    "df = pd.read_csv(file_path, sep=\";\", engine='python')\n",
    "dayfirst_inferred_value = determine_dayfirst(df)\n",
    "datetimecolumn = df.columns[0]\n",
    "df['Datetime'] = pd.to_datetime(df[datetimecolumn], dayfirst=dayfirst)\n",
    "\n",
    "end = time.time()\n",
    "print(end-start)\n",
    "    \n",
    "    "
   ]
  },
  {
   "cell_type": "code",
   "execution_count": 79,
   "metadata": {},
   "outputs": [
    {
     "name": "stdout",
     "output_type": "stream",
     "text": [
      "Dayfirst set to: False\n",
      "2.5501458644866943\n"
     ]
    }
   ],
   "source": [
    "file_path = os.path.join(datafolder, 'Zeoliet deel2.csv')\n",
    "start = time.time()\n",
    "\n",
    "df = pd.read_csv(file_path, sep=\";\", engine='python')\n",
    "datetimecolumn = df.columns[0]\n",
    "df['Datetime'] = pd.to_datetime(df[datetimecolumn], dayfirst=True)\n",
    "\n",
    "year = df['Datetime'].iloc[40].year\n",
    "jan13index = df[df['Datetime'].dt.strftime('%Y-%m-%d') ==f'{year}-01-13'].index[0]\n",
    "monthindex1 = df['Datetime'].iloc[jan13index].month\n",
    "monthindex2 = df['Datetime'].iloc[jan13index-1].month\n",
    "\n",
    "if monthindex1== monthindex2:\n",
    "    dayfirst_inferred_value = True\n",
    "else:\n",
    "    dayfirst_inferred_value=False\n",
    "\n",
    "print(f'Dayfirst set to: {dayfirst_inferred_value}')\n",
    "\n",
    "df['Datetime'] = pd.to_datetime(df[datetimecolumn], dayfirst=dayfirst)\n",
    "\n",
    "end = time.time()\n",
    "print(end-start)"
   ]
  },
  {
   "cell_type": "code",
   "execution_count": 82,
   "metadata": {},
   "outputs": [
    {
     "data": {
      "text/plain": [
       "1"
      ]
     },
     "execution_count": 82,
     "metadata": {},
     "output_type": "execute_result"
    }
   ],
   "source": []
  }
 ],
 "metadata": {
  "kernelspec": {
   "display_name": "Python 3",
   "language": "python",
   "name": "python3"
  },
  "language_info": {
   "codemirror_mode": {
    "name": "ipython",
    "version": 3
   },
   "file_extension": ".py",
   "mimetype": "text/x-python",
   "name": "python",
   "nbconvert_exporter": "python",
   "pygments_lexer": "ipython3",
   "version": "3.7.2"
  }
 },
 "nbformat": 4,
 "nbformat_minor": 4
}
